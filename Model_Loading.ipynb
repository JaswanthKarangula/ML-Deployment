{
 "cells": [
  {
   "cell_type": "code",
   "execution_count": 1,
   "id": "299ea8ea",
   "metadata": {},
   "outputs": [],
   "source": []
  },
  {
   "cell_type": "code",
   "execution_count": null,
   "id": "6115c7aa",
   "metadata": {},
   "outputs": [],
   "source": []
  },
  {
   "cell_type": "code",
   "execution_count": 14,
   "id": "90ee04dd",
   "metadata": {},
   "outputs": [],
   "source": [
    "from numpy import asarray\n",
    "from PIL import Image\n",
    "import tensorflow as tf\n",
    "import numpy as np"
   ]
  },
  {
   "cell_type": "code",
   "execution_count": 8,
   "id": "bec5dc3e",
   "metadata": {},
   "outputs": [],
   "source": [
    "batch_size = 32\n",
    "img_height = 128 #180\n",
    "img_width = 128 #180\n",
    "IMAGE_SIZE = (img_height, img_width)"
   ]
  },
  {
   "cell_type": "code",
   "execution_count": 9,
   "id": "1310a365",
   "metadata": {},
   "outputs": [],
   "source": [
    "newsaved_model = tf.keras.models.load_model('saved_models/simple_model/')"
   ]
  },
  {
   "cell_type": "code",
   "execution_count": 12,
   "id": "cc2e7d6c",
   "metadata": {},
   "outputs": [
    {
     "name": "stdout",
     "output_type": "stream",
     "text": [
      "Model: \"sequential\"\n",
      "_________________________________________________________________\n",
      " Layer (type)                Output Shape              Param #   \n",
      "=================================================================\n",
      " conv2d (Conv2D)             (None, 126, 126, 32)      896       \n",
      "                                                                 \n",
      " max_pooling2d (MaxPooling2D  (None, 63, 63, 32)       0         \n",
      " )                                                               \n",
      "                                                                 \n",
      " conv2d_1 (Conv2D)           (None, 61, 61, 32)        9248      \n",
      "                                                                 \n",
      " max_pooling2d_1 (MaxPooling  (None, 30, 30, 32)       0         \n",
      " 2D)                                                             \n",
      "                                                                 \n",
      " conv2d_2 (Conv2D)           (None, 28, 28, 32)        9248      \n",
      "                                                                 \n",
      " max_pooling2d_2 (MaxPooling  (None, 14, 14, 32)       0         \n",
      " 2D)                                                             \n",
      "                                                                 \n",
      " flatten (Flatten)           (None, 6272)              0         \n",
      "                                                                 \n",
      " dense (Dense)               (None, 128)               802944    \n",
      "                                                                 \n",
      " dense_1 (Dense)             (None, 131)               16899     \n",
      "                                                                 \n",
      "=================================================================\n",
      "Total params: 839,235\n",
      "Trainable params: 839,235\n",
      "Non-trainable params: 0\n",
      "_________________________________________________________________\n"
     ]
    }
   ],
   "source": [
    "newsaved_model.summary()"
   ]
  },
  {
   "cell_type": "code",
   "execution_count": 11,
   "id": "6e7d368c",
   "metadata": {},
   "outputs": [],
   "source": [
    "class_names = ['Apple Braeburn', 'Apple Crimson Snow', 'Apple Golden 1', 'Apple Golden 2', 'Apple Golden 3', 'Apple Granny Smith', 'Apple Pink Lady', 'Apple Red 1', 'Apple Red 2', 'Apple Red 3', 'Apple Red Delicious', 'Apple Red Yellow 1', 'Apple Red Yellow 2', 'Apricot', 'Avocado', 'Avocado ripe', 'Banana', 'Banana Lady Finger', 'Banana Red', 'Beetroot', 'Blueberry', 'Cactus fruit', 'Cantaloupe 1', 'Cantaloupe 2', 'Carambula', 'Cauliflower', 'Cherry 1', 'Cherry 2', 'Cherry Rainier', 'Cherry Wax Black', 'Cherry Wax Red', 'Cherry Wax Yellow', 'Chestnut', 'Clementine', 'Cocos', 'Corn', 'Corn Husk', 'Cucumber Ripe', 'Cucumber Ripe 2', 'Dates', 'Eggplant', 'Fig', 'Ginger Root', 'Granadilla', 'Grape Blue', 'Grape Pink', 'Grape White', 'Grape White 2', 'Grape White 3', 'Grape White 4', 'Grapefruit Pink', 'Grapefruit White', 'Guava', 'Hazelnut', 'Huckleberry', 'Kaki', 'Kiwi', 'Kohlrabi', 'Kumquats', 'Lemon', 'Lemon Meyer', 'Limes', 'Lychee', 'Mandarine', 'Mango', 'Mango Red', 'Mangostan', 'Maracuja', 'Melon Piel de Sapo', 'Mulberry', 'Nectarine', 'Nectarine Flat', 'Nut Forest', 'Nut Pecan', 'Onion Red', 'Onion Red Peeled', 'Onion White', 'Orange', 'Papaya', 'Passion Fruit', 'Peach', 'Peach 2', 'Peach Flat', 'Pear', 'Pear 2', 'Pear Abate', 'Pear Forelle', 'Pear Kaiser', 'Pear Monster', 'Pear Red', 'Pear Stone', 'Pear Williams', 'Pepino', 'Pepper Green', 'Pepper Orange', 'Pepper Red', 'Pepper Yellow', 'Physalis', 'Physalis with Husk', 'Pineapple', 'Pineapple Mini', 'Pitahaya Red', 'Plum', 'Plum 2', 'Plum 3', 'Pomegranate', 'Pomelo Sweetie', 'Potato Red', 'Potato Red Washed', 'Potato Sweet', 'Potato White', 'Quince', 'Rambutan', 'Raspberry', 'Redcurrant', 'Salak', 'Strawberry', 'Strawberry Wedge', 'Tamarillo', 'Tangelo', 'Tomato 1', 'Tomato 2', 'Tomato 3', 'Tomato 4', 'Tomato Cherry Red', 'Tomato Heart', 'Tomato Maroon', 'Tomato Yellow', 'Tomato not Ripened', 'Walnut', 'Watermelon']"
   ]
  },
  {
   "cell_type": "code",
   "execution_count": 10,
   "id": "82c85049",
   "metadata": {},
   "outputs": [
    {
     "name": "stdout",
     "output_type": "stream",
     "text": [
      "1/1 [==============================] - 0s 49ms/step\n"
     ]
    },
    {
     "data": {
      "text/plain": [
       "<tf.Tensor: shape=(1, 131), dtype=float32, numpy=\n",
       "array([[1.0000000e+00, 0.0000000e+00, 3.5364903e-36, 2.0196662e-34,\n",
       "        4.4749358e-25, 5.8678584e-29, 0.0000000e+00, 1.1105531e-23,\n",
       "        2.7353035e-12, 5.7532113e-33, 7.3654823e-35, 3.1225839e-29,\n",
       "        0.0000000e+00, 1.0485443e-27, 7.9221347e-29, 0.0000000e+00,\n",
       "        0.0000000e+00, 2.4755224e-24, 0.0000000e+00, 0.0000000e+00,\n",
       "        0.0000000e+00, 0.0000000e+00, 0.0000000e+00, 0.0000000e+00,\n",
       "        0.0000000e+00, 0.0000000e+00, 0.0000000e+00, 0.0000000e+00,\n",
       "        0.0000000e+00, 0.0000000e+00, 0.0000000e+00, 0.0000000e+00,\n",
       "        0.0000000e+00, 0.0000000e+00, 5.4025156e-34, 0.0000000e+00,\n",
       "        0.0000000e+00, 1.0004950e-32, 4.3443751e-33, 4.0653451e-33,\n",
       "        0.0000000e+00, 0.0000000e+00, 0.0000000e+00, 5.7100581e-38,\n",
       "        0.0000000e+00, 3.3562528e-26, 2.1737376e-36, 0.0000000e+00,\n",
       "        0.0000000e+00, 6.6410518e-34, 0.0000000e+00, 1.3388038e-34,\n",
       "        0.0000000e+00, 0.0000000e+00, 3.3455272e-34, 0.0000000e+00,\n",
       "        9.0277815e-36, 0.0000000e+00, 0.0000000e+00, 0.0000000e+00,\n",
       "        3.7401095e-37, 0.0000000e+00, 0.0000000e+00, 0.0000000e+00,\n",
       "        0.0000000e+00, 0.0000000e+00, 0.0000000e+00, 0.0000000e+00,\n",
       "        1.3433029e-38, 0.0000000e+00, 2.3353530e-16, 4.0655527e-30,\n",
       "        0.0000000e+00, 9.1180841e-35, 0.0000000e+00, 0.0000000e+00,\n",
       "        0.0000000e+00, 4.9546397e-19, 1.3959997e-37, 0.0000000e+00,\n",
       "        2.0776312e-29, 0.0000000e+00, 1.1538933e-32, 0.0000000e+00,\n",
       "        0.0000000e+00, 0.0000000e+00, 0.0000000e+00, 0.0000000e+00,\n",
       "        0.0000000e+00, 0.0000000e+00, 0.0000000e+00, 0.0000000e+00,\n",
       "        5.3000552e-37, 0.0000000e+00, 0.0000000e+00, 0.0000000e+00,\n",
       "        3.8816324e-35, 0.0000000e+00, 0.0000000e+00, 2.7207308e-37,\n",
       "        0.0000000e+00, 0.0000000e+00, 2.1755819e-26, 0.0000000e+00,\n",
       "        0.0000000e+00, 2.4476846e-28, 0.0000000e+00, 0.0000000e+00,\n",
       "        0.0000000e+00, 0.0000000e+00, 0.0000000e+00, 0.0000000e+00,\n",
       "        0.0000000e+00, 0.0000000e+00, 0.0000000e+00, 0.0000000e+00,\n",
       "        1.8083032e-36, 0.0000000e+00, 0.0000000e+00, 0.0000000e+00,\n",
       "        2.2126326e-35, 2.3574442e-38, 0.0000000e+00, 1.0842752e-26,\n",
       "        0.0000000e+00, 0.0000000e+00, 0.0000000e+00, 0.0000000e+00,\n",
       "        0.0000000e+00, 0.0000000e+00, 0.0000000e+00]], dtype=float32)>"
      ]
     },
     "execution_count": 10,
     "metadata": {},
     "output_type": "execute_result"
    }
   ],
   "source": [
    "# load image\n",
    "image_path = 'images/apple.jpg'\n",
    "image = Image.open(image_path)\n",
    "im_resized = image.resize((img_width, img_height))\n",
    "pixels = asarray(im_resized)\n",
    "img_array = tf.expand_dims(pixels, 0) # Create a batch\n",
    "predictions = newsaved_model.predict(img_array)\n",
    "prediction_prob=tf.nn.softmax(predictions)\n",
    "prediction_prob"
   ]
  },
  {
   "cell_type": "code",
   "execution_count": 15,
   "id": "ef4b6b10",
   "metadata": {},
   "outputs": [
    {
     "data": {
      "text/plain": [
       "'Apple Braeburn'"
      ]
     },
     "execution_count": 15,
     "metadata": {},
     "output_type": "execute_result"
    }
   ],
   "source": [
    "objid=np.argmax(prediction_prob[0], axis=-1)\n",
    "class_names[objid]"
   ]
  },
  {
   "cell_type": "code",
   "execution_count": 25,
   "id": "723f428a",
   "metadata": {},
   "outputs": [
    {
     "data": {
      "text/plain": [
       "1.0"
      ]
     },
     "execution_count": 25,
     "metadata": {},
     "output_type": "execute_result"
    }
   ],
   "source": [
    "prediction_prob[0][objid].numpy()"
   ]
  },
  {
   "cell_type": "code",
   "execution_count": 29,
   "id": "922041dd",
   "metadata": {},
   "outputs": [
    {
     "data": {
      "text/plain": [
       "'With Probability (1.00%)'"
      ]
     },
     "execution_count": 29,
     "metadata": {},
     "output_type": "execute_result"
    }
   ],
   "source": [
    "final_class = class_names[objid]\n",
    "final_class_prob = prediction_prob[0][objid].numpy()\n",
    "'With Probability (%.2f%%)' %(final_class_prob)"
   ]
  },
  {
   "cell_type": "code",
   "execution_count": null,
   "id": "f7dedebe",
   "metadata": {},
   "outputs": [],
   "source": []
  }
 ],
 "metadata": {
  "kernelspec": {
   "display_name": "Python 3 (ipykernel)",
   "language": "python",
   "name": "python3"
  },
  "language_info": {
   "codemirror_mode": {
    "name": "ipython",
    "version": 3
   },
   "file_extension": ".py",
   "mimetype": "text/x-python",
   "name": "python",
   "nbconvert_exporter": "python",
   "pygments_lexer": "ipython3",
   "version": "3.9.12"
  }
 },
 "nbformat": 4,
 "nbformat_minor": 5
}
