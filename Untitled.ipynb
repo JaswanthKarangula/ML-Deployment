{
 "cells": [
  {
   "cell_type": "code",
   "execution_count": 2,
   "id": "ad3a129c",
   "metadata": {},
   "outputs": [
    {
     "name": "stdout",
     "output_type": "stream",
     "text": [
      "Requirement already satisfied: flask in /opt/homebrew/anaconda3/lib/python3.9/site-packages (2.2.2)\n",
      "Requirement already satisfied: Jinja2>=3.0 in /opt/homebrew/anaconda3/lib/python3.9/site-packages (from flask) (3.1.2)\n",
      "Requirement already satisfied: importlib-metadata>=3.6.0 in /opt/homebrew/anaconda3/lib/python3.9/site-packages (from flask) (4.11.3)\n",
      "Requirement already satisfied: click>=8.0 in /opt/homebrew/anaconda3/lib/python3.9/site-packages (from flask) (8.1.3)\n",
      "Requirement already satisfied: Werkzeug>=2.2.2 in /opt/homebrew/anaconda3/lib/python3.9/site-packages (from flask) (2.2.2)\n",
      "Requirement already satisfied: itsdangerous>=2.0 in /opt/homebrew/anaconda3/lib/python3.9/site-packages (from flask) (2.1.2)\n",
      "Requirement already satisfied: zipp>=0.5 in /opt/homebrew/anaconda3/lib/python3.9/site-packages (from importlib-metadata>=3.6.0->flask) (3.8.0)\n",
      "Requirement already satisfied: MarkupSafe>=2.0 in /opt/homebrew/anaconda3/lib/python3.9/site-packages (from Jinja2>=3.0->flask) (2.1.1)\n"
     ]
    }
   ],
   "source": [
    "!pip install flask"
   ]
  },
  {
   "cell_type": "code",
   "execution_count": 6,
   "id": "712ae45f",
   "metadata": {},
   "outputs": [
    {
     "name": "stdout",
     "output_type": "stream",
     "text": [
      "Collecting tritonclient\n",
      "  Downloading tritonclient-2.27.0-py3-none-any.whl (66 kB)\n",
      "\u001b[2K     \u001b[90m━━━━━━━━━━━━━━━━━━━━━━━━━━━━━━━━━━━━━━━━\u001b[0m \u001b[32m66.7/66.7 kB\u001b[0m \u001b[31m1.2 MB/s\u001b[0m eta \u001b[36m0:00:00\u001b[0ma \u001b[36m0:00:01\u001b[0m\n",
      "\u001b[?25hRequirement already satisfied: numpy>=1.19.1 in /opt/homebrew/anaconda3/lib/python3.9/site-packages (from tritonclient) (1.23.3)\n",
      "Collecting python-rapidjson>=0.9.1\n",
      "  Downloading python-rapidjson-1.9.tar.gz (223 kB)\n",
      "\u001b[2K     \u001b[90m━━━━━━━━━━━━━━━━━━━━━━━━━━━━━━━━━━━━━━━\u001b[0m \u001b[32m223.1/223.1 kB\u001b[0m \u001b[31m4.3 MB/s\u001b[0m eta \u001b[36m0:00:00\u001b[0ma \u001b[36m0:00:01\u001b[0m\n",
      "\u001b[?25h  Preparing metadata (setup.py) ... \u001b[?25ldone\n",
      "\u001b[?25hBuilding wheels for collected packages: python-rapidjson\n",
      "  Building wheel for python-rapidjson (setup.py) ... \u001b[?25ldone\n",
      "\u001b[?25h  Created wheel for python-rapidjson: filename=python_rapidjson-1.9-cp39-cp39-macosx_11_0_arm64.whl size=168292 sha256=1679b69c791a1464278ffb1710cc61527671693d207c6b20499a96547def7e9d\n",
      "  Stored in directory: /Users/jaswanth/Library/Caches/pip/wheels/99/3a/f6/bc485ed2cf2a54aeb43eddf8df333d7e3e0d9448a705562102\n",
      "Successfully built python-rapidjson\n",
      "Installing collected packages: python-rapidjson, tritonclient\n",
      "Successfully installed python-rapidjson-1.9 tritonclient-2.27.0\n"
     ]
    }
   ],
   "source": [
    "!pip install tritonclient"
   ]
  },
  {
   "cell_type": "code",
   "execution_count": 8,
   "id": "1f3ad55b",
   "metadata": {},
   "outputs": [
    {
     "name": "stdout",
     "output_type": "stream",
     "text": [
      "Requirement already satisfied: opencv-python in /opt/homebrew/anaconda3/lib/python3.9/site-packages (4.6.0.66)\r\n",
      "Requirement already satisfied: numpy>=1.17.3 in /opt/homebrew/anaconda3/lib/python3.9/site-packages (from opencv-python) (1.23.3)\r\n"
     ]
    }
   ],
   "source": [
    "!pip install opencv-python"
   ]
  },
  {
   "cell_type": "code",
   "execution_count": 13,
   "id": "81f482a6",
   "metadata": {},
   "outputs": [
    {
     "name": "stdout",
     "output_type": "stream",
     "text": [
      "Collecting imutils\n",
      "  Downloading imutils-0.5.4.tar.gz (17 kB)\n",
      "  Preparing metadata (setup.py) ... \u001b[?25ldone\n",
      "\u001b[?25hBuilding wheels for collected packages: imutils\n",
      "  Building wheel for imutils (setup.py) ... \u001b[?25ldone\n",
      "\u001b[?25h  Created wheel for imutils: filename=imutils-0.5.4-py3-none-any.whl size=25836 sha256=f2a922e2664d6b04144281c9cdaa0e0c8d3f89caf472409209b1451e7596522f\n",
      "  Stored in directory: /Users/jaswanth/Library/Caches/pip/wheels/f4/4b/8b/a9c23da464a09c6ad0a131c1752079bc85f9f1677c7b78e87d\n",
      "Successfully built imutils\n",
      "Installing collected packages: imutils\n",
      "Successfully installed imutils-0.5.4\n"
     ]
    }
   ],
   "source": [
    "!pip install imutils"
   ]
  },
  {
   "cell_type": "code",
   "execution_count": 9,
   "id": "89773e73",
   "metadata": {},
   "outputs": [],
   "source": [
    "import tensorflow as tf"
   ]
  },
  {
   "cell_type": "code",
   "execution_count": 10,
   "id": "0cbb5e2c",
   "metadata": {},
   "outputs": [
    {
     "name": "stdout",
     "output_type": "stream",
     "text": [
      "Downloading data from https://storage.googleapis.com/tensorflow/tf-keras-datasets/mnist.npz\n",
      "11490434/11490434 [==============================] - 0s 0us/step\n",
      "x_train shape: (60000, 28, 28, 1)\n",
      "60000 train samples\n",
      "10000 test samples\n",
      "Model: \"sequential\"\n",
      "_________________________________________________________________\n",
      " Layer (type)                Output Shape              Param #   \n",
      "=================================================================\n",
      " conv2d (Conv2D)             (None, 26, 26, 32)        320       \n",
      "                                                                 \n",
      " max_pooling2d (MaxPooling2D  (None, 13, 13, 32)       0         \n",
      " )                                                               \n",
      "                                                                 \n",
      " conv2d_1 (Conv2D)           (None, 11, 11, 64)        18496     \n",
      "                                                                 \n",
      " max_pooling2d_1 (MaxPooling  (None, 5, 5, 64)         0         \n",
      " 2D)                                                             \n",
      "                                                                 \n",
      " flatten (Flatten)           (None, 1600)              0         \n",
      "                                                                 \n",
      " dropout (Dropout)           (None, 1600)              0         \n",
      "                                                                 \n",
      " output_1 (Dense)            (None, 10)                16010     \n",
      "                                                                 \n",
      "=================================================================\n",
      "Total params: 34,826\n",
      "Trainable params: 34,826\n",
      "Non-trainable params: 0\n",
      "_________________________________________________________________\n",
      "Epoch 1/15\n"
     ]
    },
    {
     "name": "stderr",
     "output_type": "stream",
     "text": [
      "2022-11-20 20:47:30.172238: W tensorflow/core/platform/profile_utils/cpu_utils.cc:128] Failed to get CPU frequency: 0 Hz\n"
     ]
    },
    {
     "name": "stdout",
     "output_type": "stream",
     "text": [
      "422/422 [==============================] - 6s 13ms/step - loss: 0.3581 - accuracy: 0.8907 - val_loss: 0.0849 - val_accuracy: 0.9780\n",
      "Epoch 2/15\n",
      "422/422 [==============================] - 5s 13ms/step - loss: 0.1133 - accuracy: 0.9656 - val_loss: 0.0593 - val_accuracy: 0.9840\n",
      "Epoch 3/15\n",
      "422/422 [==============================] - 5s 13ms/step - loss: 0.0848 - accuracy: 0.9740 - val_loss: 0.0480 - val_accuracy: 0.9868\n",
      "Epoch 4/15\n",
      "422/422 [==============================] - 5s 13ms/step - loss: 0.0727 - accuracy: 0.9781 - val_loss: 0.0416 - val_accuracy: 0.9878\n",
      "Epoch 5/15\n",
      "422/422 [==============================] - 7s 18ms/step - loss: 0.0627 - accuracy: 0.9802 - val_loss: 0.0383 - val_accuracy: 0.9897\n",
      "Epoch 6/15\n",
      "422/422 [==============================] - 7s 16ms/step - loss: 0.0573 - accuracy: 0.9816 - val_loss: 0.0362 - val_accuracy: 0.9912\n",
      "Epoch 7/15\n",
      "422/422 [==============================] - 6s 13ms/step - loss: 0.0501 - accuracy: 0.9845 - val_loss: 0.0340 - val_accuracy: 0.9910\n",
      "Epoch 8/15\n",
      "422/422 [==============================] - 6s 14ms/step - loss: 0.0482 - accuracy: 0.9853 - val_loss: 0.0340 - val_accuracy: 0.9910\n",
      "Epoch 9/15\n",
      "422/422 [==============================] - 5s 13ms/step - loss: 0.0464 - accuracy: 0.9851 - val_loss: 0.0337 - val_accuracy: 0.9897\n",
      "Epoch 10/15\n",
      "422/422 [==============================] - 6s 13ms/step - loss: 0.0436 - accuracy: 0.9865 - val_loss: 0.0359 - val_accuracy: 0.9915\n",
      "Epoch 11/15\n",
      "422/422 [==============================] - 6s 13ms/step - loss: 0.0400 - accuracy: 0.9870 - val_loss: 0.0306 - val_accuracy: 0.9922\n",
      "Epoch 12/15\n",
      "422/422 [==============================] - 6s 13ms/step - loss: 0.0389 - accuracy: 0.9879 - val_loss: 0.0313 - val_accuracy: 0.9923\n",
      "Epoch 13/15\n",
      "422/422 [==============================] - 6s 14ms/step - loss: 0.0350 - accuracy: 0.9884 - val_loss: 0.0297 - val_accuracy: 0.9922\n",
      "Epoch 14/15\n",
      "422/422 [==============================] - 6s 14ms/step - loss: 0.0348 - accuracy: 0.9886 - val_loss: 0.0323 - val_accuracy: 0.9900\n",
      "Epoch 15/15\n",
      "422/422 [==============================] - 6s 13ms/step - loss: 0.0335 - accuracy: 0.9892 - val_loss: 0.0303 - val_accuracy: 0.9920\n",
      "Test loss: 0.024873293936252594\n",
      "Test accuracy: 0.9914000034332275\n"
     ]
    },
    {
     "name": "stderr",
     "output_type": "stream",
     "text": [
      "WARNING:absl:Found untraced functions such as _jit_compiled_convolution_op, _jit_compiled_convolution_op while saving (showing 2 of 2). These functions will not be directly callable after loading.\n"
     ]
    },
    {
     "name": "stdout",
     "output_type": "stream",
     "text": [
      "INFO:tensorflow:Assets written to: mnist_model/assets\n"
     ]
    },
    {
     "name": "stderr",
     "output_type": "stream",
     "text": [
      "INFO:tensorflow:Assets written to: mnist_model/assets\n"
     ]
    }
   ],
   "source": [
    "import os\n",
    "\n",
    "import numpy as np\n",
    "import tensorflow as tf\n",
    "from tensorflow import keras\n",
    "from tensorflow.keras import layers\n",
    "\n",
    "# Model / data parameters\n",
    "num_classes = 10\n",
    "input_shape = (28, 28, 1)\n",
    "\n",
    "# the data, split between train and test sets\n",
    "(x_train, y_train), (x_test, y_test) = keras.datasets.mnist.load_data()\n",
    "\n",
    "# Scale images to the [0, 1] range\n",
    "x_train = x_train.astype(\"float32\") / 255\n",
    "x_test = x_test.astype(\"float32\") / 255\n",
    "# Make sure images have shape (28, 28, 1)\n",
    "x_train = np.expand_dims(x_train, -1)\n",
    "x_test = np.expand_dims(x_test, -1)\n",
    "print(\"x_train shape:\", x_train.shape)\n",
    "print(x_train.shape[0], \"train samples\")\n",
    "print(x_test.shape[0], \"test samples\")\n",
    "\n",
    "\n",
    "# convert class vectors to binary class matrices\n",
    "y_train = keras.utils.to_categorical(y_train, num_classes)\n",
    "y_test = keras.utils.to_categorical(y_test, num_classes)\n",
    "\n",
    "model = keras.Sequential(\n",
    "    [\n",
    "        keras.Input(shape=input_shape, name=\"input_1\"),\n",
    "        layers.Conv2D(32, kernel_size=(3, 3), activation=\"relu\"),\n",
    "        layers.MaxPooling2D(pool_size=(2, 2)),\n",
    "        layers.Conv2D(64, kernel_size=(3, 3), activation=\"relu\"),\n",
    "        layers.MaxPooling2D(pool_size=(2, 2)),\n",
    "        layers.Flatten(),\n",
    "        layers.Dropout(0.5),\n",
    "        layers.Dense(num_classes, activation=\"softmax\", name=\"output_1\"),\n",
    "    ]\n",
    ")\n",
    "\n",
    "model.summary()\n",
    "\n",
    "batch_size = 128\n",
    "epochs = 15\n",
    "\n",
    "model.compile(loss=\"categorical_crossentropy\", optimizer=\"adam\", metrics=[\"accuracy\"])\n",
    "\n",
    "model.fit(x_train, y_train, batch_size=batch_size, epochs=epochs, validation_split=0.1)\n",
    "\n",
    "score = model.evaluate(x_test, y_test, verbose=0)\n",
    "print(\"Test loss:\", score[0])\n",
    "print(\"Test accuracy:\", score[1])\n",
    "\n",
    "tf.keras.models.save_model(model, \"mnist_model\")"
   ]
  },
  {
   "cell_type": "code",
   "execution_count": 11,
   "id": "bf93921d",
   "metadata": {},
   "outputs": [],
   "source": [
    "from flask import Flask, redirect, jsonify, request"
   ]
  },
  {
   "cell_type": "code",
   "execution_count": 12,
   "id": "d2230cd2",
   "metadata": {},
   "outputs": [
    {
     "ename": "ModuleNotFoundError",
     "evalue": "No module named 'imutils'",
     "output_type": "error",
     "traceback": [
      "\u001b[0;31m---------------------------------------------------------------------------\u001b[0m",
      "\u001b[0;31mModuleNotFoundError\u001b[0m                       Traceback (most recent call last)",
      "Input \u001b[0;32mIn [12]\u001b[0m, in \u001b[0;36m<cell line: 1>\u001b[0;34m()\u001b[0m\n\u001b[0;32m----> 1\u001b[0m \u001b[38;5;28;01mimport\u001b[39;00m \u001b[38;5;21;01mcv2\u001b[39;00m\u001b[38;5;241m,\u001b[39m \u001b[38;5;21;01mos\u001b[39;00m\u001b[38;5;241m,\u001b[39m \u001b[38;5;21;01msys\u001b[39;00m\u001b[38;5;241m,\u001b[39m \u001b[38;5;21;01mimutils\u001b[39;00m\n\u001b[1;32m      2\u001b[0m \u001b[38;5;28;01mimport\u001b[39;00m \u001b[38;5;21;01mnumpy\u001b[39;00m \u001b[38;5;28;01mas\u001b[39;00m \u001b[38;5;21;01mnp\u001b[39;00m\n\u001b[1;32m      3\u001b[0m \u001b[38;5;28;01mimport\u001b[39;00m \u001b[38;5;21;01mtensorflow\u001b[39;00m \u001b[38;5;28;01mas\u001b[39;00m \u001b[38;5;21;01mtf\u001b[39;00m\n",
      "\u001b[0;31mModuleNotFoundError\u001b[0m: No module named 'imutils'"
     ]
    }
   ],
   "source": [
    "import cv2, os, sys, imutils\n",
    "import numpy as np\n",
    "import tensorflow as tf"
   ]
  },
  {
   "cell_type": "code",
   "execution_count": null,
   "id": "23105a0b",
   "metadata": {},
   "outputs": [],
   "source": []
  }
 ],
 "metadata": {
  "kernelspec": {
   "display_name": "Python 3 (ipykernel)",
   "language": "python",
   "name": "python3"
  },
  "language_info": {
   "codemirror_mode": {
    "name": "ipython",
    "version": 3
   },
   "file_extension": ".py",
   "mimetype": "text/x-python",
   "name": "python",
   "nbconvert_exporter": "python",
   "pygments_lexer": "ipython3",
   "version": "3.9.12"
  }
 },
 "nbformat": 4,
 "nbformat_minor": 5
}
