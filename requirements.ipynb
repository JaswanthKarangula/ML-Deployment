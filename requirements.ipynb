{
 "cells": [
  {
   "cell_type": "code",
   "execution_count": 2,
   "id": "ad3a129c",
   "metadata": {},
   "outputs": [
    {
     "name": "stdout",
     "output_type": "stream",
     "text": [
      "Requirement already satisfied: flask in /opt/homebrew/anaconda3/lib/python3.9/site-packages (2.2.2)\n",
      "Requirement already satisfied: Jinja2>=3.0 in /opt/homebrew/anaconda3/lib/python3.9/site-packages (from flask) (3.1.2)\n",
      "Requirement already satisfied: importlib-metadata>=3.6.0 in /opt/homebrew/anaconda3/lib/python3.9/site-packages (from flask) (4.11.3)\n",
      "Requirement already satisfied: click>=8.0 in /opt/homebrew/anaconda3/lib/python3.9/site-packages (from flask) (8.1.3)\n",
      "Requirement already satisfied: Werkzeug>=2.2.2 in /opt/homebrew/anaconda3/lib/python3.9/site-packages (from flask) (2.2.2)\n",
      "Requirement already satisfied: itsdangerous>=2.0 in /opt/homebrew/anaconda3/lib/python3.9/site-packages (from flask) (2.1.2)\n",
      "Requirement already satisfied: zipp>=0.5 in /opt/homebrew/anaconda3/lib/python3.9/site-packages (from importlib-metadata>=3.6.0->flask) (3.8.0)\n",
      "Requirement already satisfied: MarkupSafe>=2.0 in /opt/homebrew/anaconda3/lib/python3.9/site-packages (from Jinja2>=3.0->flask) (2.1.1)\n"
     ]
    }
   ],
   "source": [
    "!pip install flask"
   ]
  },
  {
   "cell_type": "code",
   "execution_count": 6,
   "id": "712ae45f",
   "metadata": {},
   "outputs": [
    {
     "name": "stdout",
     "output_type": "stream",
     "text": [
      "Collecting tritonclient\n",
      "  Downloading tritonclient-2.27.0-py3-none-any.whl (66 kB)\n",
      "\u001b[2K     \u001b[90m━━━━━━━━━━━━━━━━━━━━━━━━━━━━━━━━━━━━━━━━\u001b[0m \u001b[32m66.7/66.7 kB\u001b[0m \u001b[31m1.2 MB/s\u001b[0m eta \u001b[36m0:00:00\u001b[0ma \u001b[36m0:00:01\u001b[0m\n",
      "\u001b[?25hRequirement already satisfied: numpy>=1.19.1 in /opt/homebrew/anaconda3/lib/python3.9/site-packages (from tritonclient) (1.23.3)\n",
      "Collecting python-rapidjson>=0.9.1\n",
      "  Downloading python-rapidjson-1.9.tar.gz (223 kB)\n",
      "\u001b[2K     \u001b[90m━━━━━━━━━━━━━━━━━━━━━━━━━━━━━━━━━━━━━━━\u001b[0m \u001b[32m223.1/223.1 kB\u001b[0m \u001b[31m4.3 MB/s\u001b[0m eta \u001b[36m0:00:00\u001b[0ma \u001b[36m0:00:01\u001b[0m\n",
      "\u001b[?25h  Preparing metadata (setup.py) ... \u001b[?25ldone\n",
      "\u001b[?25hBuilding wheels for collected packages: python-rapidjson\n",
      "  Building wheel for python-rapidjson (setup.py) ... \u001b[?25ldone\n",
      "\u001b[?25h  Created wheel for python-rapidjson: filename=python_rapidjson-1.9-cp39-cp39-macosx_11_0_arm64.whl size=168292 sha256=1679b69c791a1464278ffb1710cc61527671693d207c6b20499a96547def7e9d\n",
      "  Stored in directory: /Users/jaswanth/Library/Caches/pip/wheels/99/3a/f6/bc485ed2cf2a54aeb43eddf8df333d7e3e0d9448a705562102\n",
      "Successfully built python-rapidjson\n",
      "Installing collected packages: python-rapidjson, tritonclient\n",
      "Successfully installed python-rapidjson-1.9 tritonclient-2.27.0\n"
     ]
    }
   ],
   "source": [
    "!pip install tritonclient"
   ]
  },
  {
   "cell_type": "code",
   "execution_count": 8,
   "id": "1f3ad55b",
   "metadata": {},
   "outputs": [
    {
     "name": "stdout",
     "output_type": "stream",
     "text": [
      "Requirement already satisfied: opencv-python in /opt/homebrew/anaconda3/lib/python3.9/site-packages (4.6.0.66)\r\n",
      "Requirement already satisfied: numpy>=1.17.3 in /opt/homebrew/anaconda3/lib/python3.9/site-packages (from opencv-python) (1.23.3)\r\n"
     ]
    }
   ],
   "source": [
    "!pip install opencv-python"
   ]
  },
  {
   "cell_type": "code",
   "execution_count": 13,
   "id": "81f482a6",
   "metadata": {},
   "outputs": [
    {
     "name": "stdout",
     "output_type": "stream",
     "text": [
      "Collecting imutils\n",
      "  Downloading imutils-0.5.4.tar.gz (17 kB)\n",
      "  Preparing metadata (setup.py) ... \u001b[?25ldone\n",
      "\u001b[?25hBuilding wheels for collected packages: imutils\n",
      "  Building wheel for imutils (setup.py) ... \u001b[?25ldone\n",
      "\u001b[?25h  Created wheel for imutils: filename=imutils-0.5.4-py3-none-any.whl size=25836 sha256=f2a922e2664d6b04144281c9cdaa0e0c8d3f89caf472409209b1451e7596522f\n",
      "  Stored in directory: /Users/jaswanth/Library/Caches/pip/wheels/f4/4b/8b/a9c23da464a09c6ad0a131c1752079bc85f9f1677c7b78e87d\n",
      "Successfully built imutils\n",
      "Installing collected packages: imutils\n",
      "Successfully installed imutils-0.5.4\n"
     ]
    }
   ],
   "source": [
    "!pip install imutils"
   ]
  },
  {
   "cell_type": "code",
   "execution_count": 9,
   "id": "89773e73",
   "metadata": {},
   "outputs": [],
   "source": []
  }
 ],
 "metadata": {
  "kernelspec": {
   "display_name": "Python 3 (ipykernel)",
   "language": "python",
   "name": "python3"
  },
  "language_info": {
   "codemirror_mode": {
    "name": "ipython",
    "version": 3
   },
   "file_extension": ".py",
   "mimetype": "text/x-python",
   "name": "python",
   "nbconvert_exporter": "python",
   "pygments_lexer": "ipython3",
   "version": "3.9.12"
  }
 },
 "nbformat": 4,
 "nbformat_minor": 5
}
